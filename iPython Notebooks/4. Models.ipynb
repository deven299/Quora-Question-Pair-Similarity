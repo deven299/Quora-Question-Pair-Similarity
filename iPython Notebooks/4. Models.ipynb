{
 "cells": [
  {
   "cell_type": "code",
   "execution_count": 23,
   "metadata": {},
   "outputs": [],
   "source": [
    "import pandas as pd\n",
    "import matplotlib.pyplot as plt\n",
    "import re\n",
    "import time\n",
    "import warnings\n",
    "import sqlite3\n",
    "from sqlalchemy import create_engine # database connection\n",
    "import csv\n",
    "import os\n",
    "warnings.filterwarnings(\"ignore\")\n",
    "import datetime as dt\n",
    "import numpy as np\n",
    "from nltk.corpus import stopwords\n",
    "from sklearn.decomposition import TruncatedSVD\n",
    "from sklearn.preprocessing import normalize\n",
    "from sklearn.feature_extraction.text import CountVectorizer\n",
    "from sklearn.manifold import TSNE\n",
    "import seaborn as sns\n",
    "from sklearn.neighbors import KNeighborsClassifier\n",
    "from sklearn.metrics import confusion_matrix\n",
    "from sklearn.metrics.classification import accuracy_score, log_loss\n",
    "from sklearn.feature_extraction.text import TfidfVectorizer\n",
    "from collections import Counter\n",
    "from scipy.sparse import hstack\n",
    "from sklearn.multiclass import OneVsRestClassifier\n",
    "from sklearn.svm import SVC\n",
    "from sklearn.model_selection import StratifiedKFold \n",
    "from collections import Counter, defaultdict\n",
    "from sklearn.calibration import CalibratedClassifierCV\n",
    "from sklearn.naive_bayes import MultinomialNB\n",
    "from sklearn.naive_bayes import GaussianNB\n",
    "from sklearn.model_selection import train_test_split\n",
    "from sklearn.model_selection import GridSearchCV\n",
    "import math\n",
    "from sklearn.metrics import normalized_mutual_info_score\n",
    "from sklearn.ensemble import RandomForestClassifier\n",
    "\n",
    "\n",
    "\n",
    "from sklearn.model_selection import cross_val_score\n",
    "from sklearn.linear_model import SGDClassifier\n",
    "from mlxtend.classifier import StackingClassifier\n",
    "\n",
    "from sklearn import model_selection\n",
    "from sklearn.linear_model import LogisticRegression\n",
    "from sklearn.metrics import precision_recall_curve, auc, roc_curve"
   ]
  },
  {
   "cell_type": "code",
   "execution_count": 25,
   "metadata": {},
   "outputs": [],
   "source": [
    "# taking only 1M datapoints to reduce computational power and time required\n",
    "df = pd.read_csv('final_features.csv')\n",
    "data = df.sample(n = 100001)\n",
    "y_true = data['is_duplicate']\n",
    "data.drop(['Unnamed: 0', 'id','is_duplicate'], axis=1, inplace=True)"
   ]
  },
  {
   "cell_type": "code",
   "execution_count": 26,
   "metadata": {},
   "outputs": [
    {
     "data": {
      "text/html": [
       "<div>\n",
       "<style scoped>\n",
       "    .dataframe tbody tr th:only-of-type {\n",
       "        vertical-align: middle;\n",
       "    }\n",
       "\n",
       "    .dataframe tbody tr th {\n",
       "        vertical-align: top;\n",
       "    }\n",
       "\n",
       "    .dataframe thead th {\n",
       "        text-align: right;\n",
       "    }\n",
       "</style>\n",
       "<table border=\"1\" class=\"dataframe\">\n",
       "  <thead>\n",
       "    <tr style=\"text-align: right;\">\n",
       "      <th></th>\n",
       "      <th>cwc_min</th>\n",
       "      <th>cwc_max</th>\n",
       "      <th>csc_min</th>\n",
       "      <th>csc_max</th>\n",
       "      <th>ctc_min</th>\n",
       "      <th>ctc_max</th>\n",
       "      <th>last_word_eq</th>\n",
       "      <th>first_word_eq</th>\n",
       "      <th>abs_len_diff</th>\n",
       "      <th>mean_len</th>\n",
       "      <th>...</th>\n",
       "      <th>86_y</th>\n",
       "      <th>87_y</th>\n",
       "      <th>88_y</th>\n",
       "      <th>89_y</th>\n",
       "      <th>90_y</th>\n",
       "      <th>91_y</th>\n",
       "      <th>92_y</th>\n",
       "      <th>93_y</th>\n",
       "      <th>94_y</th>\n",
       "      <th>95_y</th>\n",
       "    </tr>\n",
       "  </thead>\n",
       "  <tbody>\n",
       "    <tr>\n",
       "      <th>325927</th>\n",
       "      <td>0.000000</td>\n",
       "      <td>0.000000</td>\n",
       "      <td>0.333322</td>\n",
       "      <td>0.090908</td>\n",
       "      <td>0.124998</td>\n",
       "      <td>0.041666</td>\n",
       "      <td>0.0</td>\n",
       "      <td>0.0</td>\n",
       "      <td>16.0</td>\n",
       "      <td>16.0</td>\n",
       "      <td>...</td>\n",
       "      <td>9.916620</td>\n",
       "      <td>-20.474477</td>\n",
       "      <td>-69.100220</td>\n",
       "      <td>33.984330</td>\n",
       "      <td>11.218117</td>\n",
       "      <td>15.257108</td>\n",
       "      <td>-67.197423</td>\n",
       "      <td>89.362409</td>\n",
       "      <td>6.604263</td>\n",
       "      <td>111.012312</td>\n",
       "    </tr>\n",
       "    <tr>\n",
       "      <th>29958</th>\n",
       "      <td>0.666644</td>\n",
       "      <td>0.666644</td>\n",
       "      <td>0.249994</td>\n",
       "      <td>0.249994</td>\n",
       "      <td>0.428565</td>\n",
       "      <td>0.428565</td>\n",
       "      <td>1.0</td>\n",
       "      <td>1.0</td>\n",
       "      <td>0.0</td>\n",
       "      <td>7.0</td>\n",
       "      <td>...</td>\n",
       "      <td>21.565672</td>\n",
       "      <td>-21.559930</td>\n",
       "      <td>-19.066460</td>\n",
       "      <td>33.118830</td>\n",
       "      <td>-32.545566</td>\n",
       "      <td>0.997359</td>\n",
       "      <td>-43.985768</td>\n",
       "      <td>85.991640</td>\n",
       "      <td>-21.132015</td>\n",
       "      <td>13.968308</td>\n",
       "    </tr>\n",
       "    <tr>\n",
       "      <th>295007</th>\n",
       "      <td>0.249994</td>\n",
       "      <td>0.166664</td>\n",
       "      <td>0.571420</td>\n",
       "      <td>0.363633</td>\n",
       "      <td>0.384612</td>\n",
       "      <td>0.263157</td>\n",
       "      <td>0.0</td>\n",
       "      <td>1.0</td>\n",
       "      <td>6.0</td>\n",
       "      <td>16.0</td>\n",
       "      <td>...</td>\n",
       "      <td>-2.130194</td>\n",
       "      <td>16.000496</td>\n",
       "      <td>-25.962658</td>\n",
       "      <td>-36.629608</td>\n",
       "      <td>-69.717198</td>\n",
       "      <td>-84.894676</td>\n",
       "      <td>11.464158</td>\n",
       "      <td>-37.989339</td>\n",
       "      <td>3.848511</td>\n",
       "      <td>26.574310</td>\n",
       "    </tr>\n",
       "    <tr>\n",
       "      <th>358941</th>\n",
       "      <td>0.599988</td>\n",
       "      <td>0.499992</td>\n",
       "      <td>0.749981</td>\n",
       "      <td>0.749981</td>\n",
       "      <td>0.666659</td>\n",
       "      <td>0.599994</td>\n",
       "      <td>1.0</td>\n",
       "      <td>1.0</td>\n",
       "      <td>1.0</td>\n",
       "      <td>9.5</td>\n",
       "      <td>...</td>\n",
       "      <td>4.691129</td>\n",
       "      <td>0.013804</td>\n",
       "      <td>-0.360108</td>\n",
       "      <td>59.210307</td>\n",
       "      <td>-18.850000</td>\n",
       "      <td>-92.205518</td>\n",
       "      <td>-25.998786</td>\n",
       "      <td>54.830563</td>\n",
       "      <td>8.521821</td>\n",
       "      <td>30.225916</td>\n",
       "    </tr>\n",
       "    <tr>\n",
       "      <th>168428</th>\n",
       "      <td>0.374995</td>\n",
       "      <td>0.374995</td>\n",
       "      <td>0.333328</td>\n",
       "      <td>0.285710</td>\n",
       "      <td>0.333331</td>\n",
       "      <td>0.333331</td>\n",
       "      <td>0.0</td>\n",
       "      <td>1.0</td>\n",
       "      <td>0.0</td>\n",
       "      <td>15.0</td>\n",
       "      <td>...</td>\n",
       "      <td>-14.703725</td>\n",
       "      <td>40.991142</td>\n",
       "      <td>-110.872596</td>\n",
       "      <td>30.195823</td>\n",
       "      <td>-73.887874</td>\n",
       "      <td>72.073380</td>\n",
       "      <td>33.550072</td>\n",
       "      <td>106.739274</td>\n",
       "      <td>99.763524</td>\n",
       "      <td>172.660605</td>\n",
       "    </tr>\n",
       "  </tbody>\n",
       "</table>\n",
       "<p>5 rows × 217 columns</p>\n",
       "</div>"
      ],
      "text/plain": [
       "         cwc_min   cwc_max   csc_min   csc_max   ctc_min   ctc_max  \\\n",
       "325927  0.000000  0.000000  0.333322  0.090908  0.124998  0.041666   \n",
       "29958   0.666644  0.666644  0.249994  0.249994  0.428565  0.428565   \n",
       "295007  0.249994  0.166664  0.571420  0.363633  0.384612  0.263157   \n",
       "358941  0.599988  0.499992  0.749981  0.749981  0.666659  0.599994   \n",
       "168428  0.374995  0.374995  0.333328  0.285710  0.333331  0.333331   \n",
       "\n",
       "        last_word_eq  first_word_eq  abs_len_diff  mean_len  ...       86_y  \\\n",
       "325927           0.0            0.0          16.0      16.0  ...   9.916620   \n",
       "29958            1.0            1.0           0.0       7.0  ...  21.565672   \n",
       "295007           0.0            1.0           6.0      16.0  ...  -2.130194   \n",
       "358941           1.0            1.0           1.0       9.5  ...   4.691129   \n",
       "168428           0.0            1.0           0.0      15.0  ... -14.703725   \n",
       "\n",
       "             87_y        88_y       89_y       90_y       91_y       92_y  \\\n",
       "325927 -20.474477  -69.100220  33.984330  11.218117  15.257108 -67.197423   \n",
       "29958  -21.559930  -19.066460  33.118830 -32.545566   0.997359 -43.985768   \n",
       "295007  16.000496  -25.962658 -36.629608 -69.717198 -84.894676  11.464158   \n",
       "358941   0.013804   -0.360108  59.210307 -18.850000 -92.205518 -25.998786   \n",
       "168428  40.991142 -110.872596  30.195823 -73.887874  72.073380  33.550072   \n",
       "\n",
       "              93_y       94_y        95_y  \n",
       "325927   89.362409   6.604263  111.012312  \n",
       "29958    85.991640 -21.132015   13.968308  \n",
       "295007  -37.989339   3.848511   26.574310  \n",
       "358941   54.830563   8.521821   30.225916  \n",
       "168428  106.739274  99.763524  172.660605  \n",
       "\n",
       "[5 rows x 217 columns]"
      ]
     },
     "execution_count": 26,
     "metadata": {},
     "output_type": "execute_result"
    }
   ],
   "source": [
    "data.head()"
   ]
  },
  {
   "cell_type": "markdown",
   "metadata": {},
   "source": [
    "### Random train test split"
   ]
  },
  {
   "cell_type": "code",
   "execution_count": 27,
   "metadata": {},
   "outputs": [],
   "source": [
    "X_train,X_test, y_train, y_test = train_test_split(data, y_true, stratify=y_true, test_size=0.3)"
   ]
  },
  {
   "cell_type": "code",
   "execution_count": 28,
   "metadata": {},
   "outputs": [
    {
     "name": "stdout",
     "output_type": "stream",
     "text": [
      "Number of data points in train data : (70000, 217)\n",
      "Number of data points in test data : (30001, 217)\n"
     ]
    }
   ],
   "source": [
    "print(\"Number of data points in train data :\",X_train.shape)\n",
    "print(\"Number of data points in test data :\",X_test.shape)"
   ]
  },
  {
   "cell_type": "code",
   "execution_count": 29,
   "metadata": {},
   "outputs": [
    {
     "name": "stdout",
     "output_type": "stream",
     "text": [
      "---------- Distribution of output variable in train data ----------\n",
      "Class 0:  0.6284142857142857 Class 1:  0.3715857142857143\n",
      "---------- Distribution of output variable in train data ----------\n",
      "Class 0:  0.37158761374620847 Class 1:  0.37158761374620847\n"
     ]
    }
   ],
   "source": [
    "print(\"-\"*10, \"Distribution of output variable in train data\", \"-\"*10)\n",
    "train_distr = Counter(y_train)\n",
    "train_len = len(y_train)\n",
    "print(\"Class 0: \",int(train_distr[0])/train_len,\"Class 1: \", int(train_distr[1])/train_len)\n",
    "print(\"-\"*10, \"Distribution of output variable in train data\", \"-\"*10)\n",
    "test_distr = Counter(y_test)\n",
    "test_len = len(y_test)\n",
    "print(\"Class 0: \",int(test_distr[1])/test_len, \"Class 1: \",int(test_distr[1])/test_len)"
   ]
  },
  {
   "cell_type": "code",
   "execution_count": 30,
   "metadata": {},
   "outputs": [],
   "source": [
    "def plot_confusion_matrix(test_y, predict_y):\n",
    "    C = confusion_matrix(test_y, predict_y)\n",
    "    A =(((C.T)/(C.sum(axis=1))).T)\n",
    "    B =(C/C.sum(axis=0))\n",
    "    plt.figure(figsize=(20,4))\n",
    "    labels = [1,2]\n",
    "    # representing A in heatmap format\n",
    "    cmap=sns.light_palette(\"blue\")\n",
    "    plt.subplot(1, 3, 1)\n",
    "    sns.heatmap(C, annot=True, cmap=cmap, fmt=\".3f\", xticklabels=labels, yticklabels=labels)\n",
    "    plt.xlabel('Predicted Class')\n",
    "    plt.ylabel('Original Class')\n",
    "    plt.title(\"Confusion matrix\")\n",
    "    \n",
    "    plt.subplot(1, 3, 2)\n",
    "    sns.heatmap(B, annot=True, cmap=cmap, fmt=\".3f\", xticklabels=labels, yticklabels=labels)\n",
    "    plt.xlabel('Predicted Class')\n",
    "    plt.ylabel('Original Class')\n",
    "    plt.title(\"Precision matrix\")\n",
    "    \n",
    "    plt.subplot(1, 3, 3)\n",
    "    # representing B in heatmap format\n",
    "    sns.heatmap(A, annot=True, cmap=cmap, fmt=\".3f\", xticklabels=labels, yticklabels=labels)\n",
    "    plt.xlabel('Predicted Class')\n",
    "    plt.ylabel('Original Class')\n",
    "    plt.title(\"Recall matrix\")\n",
    "    \n",
    "    plt.show()"
   ]
  },
  {
   "cell_type": "markdown",
   "metadata": {},
   "source": [
    "## Dummy model"
   ]
  },
  {
   "cell_type": "code",
   "execution_count": 31,
   "metadata": {},
   "outputs": [
    {
     "name": "stdout",
     "output_type": "stream",
     "text": [
      "Log loss on Test Data using Random Model 0.878103108168104\n"
     ]
    },
    {
     "data": {
      "image/png": "[encoded data removed]",
      "text/plain": [
       "<Figure size 1440x288 with 6 Axes>"
      ]
     },
     "metadata": {
      "needs_background": "light"
     },
     "output_type": "display_data"
    }
   ],
   "source": [
    "# Credit: https://stackoverflow.com/a/18662466/4084039\n",
    "predicted_y = np.zeros((test_len,2))\n",
    "for i in range(test_len):\n",
    "    rand_probs = np.random.rand(1,2)\n",
    "    predicted_y[i] = ((rand_probs/sum(sum(rand_probs)))[0])\n",
    "print(\"Log loss on Test Data using Random Model\",log_loss(y_test, predicted_y, eps=1e-15))\n",
    "\n",
    "predicted_y =np.argmax(predicted_y, axis=1)\n",
    "plot_confusion_matrix(y_test, predicted_y)"
   ]
  },
  {
   "cell_type": "markdown",
   "metadata": {},
   "source": [
    "## Logistic Regression with hyperparameter tuning'"
   ]
  },
  {
   "cell_type": "code",
   "execution_count": 32,
   "metadata": {},
   "outputs": [
    {
     "name": "stdout",
     "output_type": "stream",
     "text": [
      "For values of alpha =  1e-05 The log loss is: 0.4908276330226306\n",
      "For values of alpha =  0.0001 The log loss is: 0.45706984340562873\n",
      "For values of alpha =  0.001 The log loss is: 0.45637540944806815\n",
      "For values of alpha =  0.01 The log loss is: 0.44187678031754085\n",
      "For values of alpha =  0.1 The log loss is: 0.45736219124370137\n",
      "For values of alpha =  1 The log loss is: 0.4813509741952634\n",
      "For values of alpha =  10 The log loss is: 0.5207594604193764\n"
     ]
    },
    {
     "data": {
      "image/png": "[encoded data removed]",
      "text/plain": [
       "<Figure size 432x288 with 1 Axes>"
      ]
     },
     "metadata": {
      "needs_background": "light"
     },
     "output_type": "display_data"
    },
    {
     "name": "stdout",
     "output_type": "stream",
     "text": [
      "For values of best alpha =  0.01 The train log loss is: 0.4414421691079594\n",
      "For values of best alpha =  0.01 The test log loss is: 0.44187678031754085\n",
      "Total number of data points : 30001\n"
     ]
    },
    {
     "data": {
      "image/png": "[encoded data removed]",
      "text/plain": [
       "<Figure size 1440x288 with 6 Axes>"
      ]
     },
     "metadata": {
      "needs_background": "light"
     },
     "output_type": "display_data"
    }
   ],
   "source": [
    "alpha = [10 ** x for x in range(-5, 2)] # hyperparam for SGD classifier.\n",
    "\n",
    "log_error_array=[]\n",
    "for i in alpha:\n",
    "    clf = SGDClassifier(alpha=i, penalty='l2', loss='log', random_state=42)\n",
    "    clf.fit(X_train, y_train)\n",
    "    sig_clf = CalibratedClassifierCV(clf, method=\"sigmoid\")\n",
    "    sig_clf.fit(X_train, y_train)\n",
    "    predict_y = sig_clf.predict_proba(X_test)\n",
    "    log_error_array.append(log_loss(y_test, predict_y, labels=clf.classes_, eps=1e-15))\n",
    "    print('For values of alpha = ', i, \"The log loss is:\",log_loss(y_test, predict_y, labels=clf.classes_, eps=1e-15))\n",
    "\n",
    "fig, ax = plt.subplots()\n",
    "ax.plot(alpha, log_error_array,c='g')\n",
    "for i, txt in enumerate(np.round(log_error_array,3)):\n",
    "    ax.annotate((alpha[i],np.round(txt,3)), (alpha[i],log_error_array[i]))\n",
    "plt.grid()\n",
    "plt.title(\"Cross Validation Error for each alpha\")\n",
    "plt.xlabel(\"Alpha i's\")\n",
    "plt.ylabel(\"Error measure\")\n",
    "plt.show()\n",
    "\n",
    "\n",
    "best_alpha = np.argmin(log_error_array)\n",
    "clf = SGDClassifier(alpha=alpha[best_alpha], penalty='l2', loss='log', random_state=42)\n",
    "clf.fit(X_train, y_train)\n",
    "sig_clf = CalibratedClassifierCV(clf, method=\"sigmoid\")\n",
    "sig_clf.fit(X_train, y_train)\n",
    "\n",
    "predict_y = sig_clf.predict_proba(X_train)\n",
    "print('For values of best alpha = ', alpha[best_alpha], \"The train log loss is:\",log_loss(y_train, predict_y, labels=clf.classes_, eps=1e-15))\n",
    "predict_y = sig_clf.predict_proba(X_test)\n",
    "print('For values of best alpha = ', alpha[best_alpha], \"The test log loss is:\",log_loss(y_test, predict_y, labels=clf.classes_, eps=1e-15))\n",
    "predicted_y =np.argmax(predict_y,axis=1)\n",
    "print(\"Total number of data points :\", len(predicted_y))\n",
    "plot_confusion_matrix(y_test, predicted_y)"
   ]
  },
  {
   "cell_type": "markdown",
   "metadata": {},
   "source": [
    "## Linear SVM with hyperparameter tuning"
   ]
  },
  {
   "cell_type": "code",
   "execution_count": 33,
   "metadata": {},
   "outputs": [
    {
     "name": "stderr",
     "output_type": "stream",
     "text": [
      " 14%|███████████▊                                                                       | 1/7 [08:11<49:08, 491.35s/it]"
     ]
    },
    {
     "name": "stdout",
     "output_type": "stream",
     "text": [
      "For values of alpha =  1e-05 The log loss is: 0.659795232654984\n"
     ]
    },
    {
     "name": "stderr",
     "output_type": "stream",
     "text": [
      "\r",
      " 29%|███████████████████████▋                                                           | 2/7 [15:31<39:40, 476.05s/it]"
     ]
    },
    {
     "name": "stdout",
     "output_type": "stream",
     "text": [
      "For values of alpha =  0.0001 The log loss is: 0.659795232654984\n"
     ]
    },
    {
     "name": "stderr",
     "output_type": "stream",
     "text": [
      "\r",
      " 43%|███████████████████████████████████▌                                               | 3/7 [23:33<31:51, 477.90s/it]"
     ]
    },
    {
     "name": "stdout",
     "output_type": "stream",
     "text": [
      "For values of alpha =  0.001 The log loss is: 0.659795232654984\n"
     ]
    },
    {
     "name": "stderr",
     "output_type": "stream",
     "text": [
      "\r",
      " 57%|███████████████████████████████████████████████▍                                   | 4/7 [34:07<26:13, 524.63s/it]"
     ]
    },
    {
     "name": "stdout",
     "output_type": "stream",
     "text": [
      "For values of alpha =  0.01 The log loss is: 0.4904246570182551\n"
     ]
    },
    {
     "name": "stderr",
     "output_type": "stream",
     "text": [
      "\r",
      " 71%|███████████████████████████████████████████████████████████▎                       | 5/7 [44:47<18:38, 559.13s/it]"
     ]
    },
    {
     "name": "stdout",
     "output_type": "stream",
     "text": [
      "For values of alpha =  0.1 The log loss is: 0.5777363168876372\n"
     ]
    },
    {
     "name": "stderr",
     "output_type": "stream",
     "text": [
      "\r",
      " 86%|███████████████████████████████████████████████████████████████████████▏           | 6/7 [57:00<10:11, 611.46s/it]"
     ]
    },
    {
     "name": "stdout",
     "output_type": "stream",
     "text": [
      "For values of alpha =  1 The log loss is: 0.6355067035307416\n"
     ]
    },
    {
     "name": "stderr",
     "output_type": "stream",
     "text": [
      "100%|█████████████████████████████████████████████████████████████████████████████████| 7/7 [1:20:44<00:00, 692.03s/it]\n"
     ]
    },
    {
     "name": "stdout",
     "output_type": "stream",
     "text": [
      "For values of alpha =  10 The log loss is: 0.6570723935113744\n"
     ]
    },
    {
     "data": {
      "image/png": "[encoded data removed]",
      "text/plain": [
       "<Figure size 432x288 with 1 Axes>"
      ]
     },
     "metadata": {
      "needs_background": "light"
     },
     "output_type": "display_data"
    },
    {
     "name": "stdout",
     "output_type": "stream",
     "text": [
      "For values of best alpha =  0.01 The train log loss is: 0.4885241890540359\n",
      "For values of best alpha =  0.01 The test log loss is: 0.4904246570182551\n",
      "Total number of data points : 30001\n"
     ]
    },
    {
     "data": {
      "image/png": "[encoded data removed]",
      "text/plain": [
       "<Figure size 1440x288 with 6 Axes>"
      ]
     },
     "metadata": {
      "needs_background": "light"
     },
     "output_type": "display_data"
    }
   ],
   "source": [
    "from tqdm import tqdm\n",
    "alpha = [10 ** x for x in range(-5, 2)] # hyperparam for SGD classifier.\n",
    "\n",
    "log_error_array=[]\n",
    "for i in tqdm(alpha):\n",
    "    clf = SGDClassifier(alpha=i, penalty='l1', loss='hinge', random_state=42)\n",
    "    clf.fit(X_train, y_train)\n",
    "    sig_clf = CalibratedClassifierCV(clf, method=\"sigmoid\")\n",
    "    sig_clf.fit(X_train, y_train)\n",
    "    predict_y = sig_clf.predict_proba(X_test)\n",
    "    log_error_array.append(log_loss(y_test, predict_y, labels=clf.classes_, eps=1e-15))\n",
    "    print('For values of alpha = ', i, \"The log loss is:\",log_loss(y_test, predict_y, labels=clf.classes_, eps=1e-15))\n",
    "\n",
    "fig, ax = plt.subplots()\n",
    "ax.plot(alpha, log_error_array,c='g')\n",
    "for i, txt in enumerate(np.round(log_error_array,3)):\n",
    "    ax.annotate((alpha[i],np.round(txt,3)), (alpha[i],log_error_array[i]))\n",
    "plt.grid()\n",
    "plt.title(\"Cross Validation Error for each alpha\")\n",
    "plt.xlabel(\"Alpha i's\")\n",
    "plt.ylabel(\"Error measure\")\n",
    "plt.show()\n",
    "\n",
    "\n",
    "best_alpha = np.argmin(log_error_array)\n",
    "clf = SGDClassifier(alpha=alpha[best_alpha], penalty='l1', loss='hinge', random_state=42)\n",
    "clf.fit(X_train, y_train)\n",
    "sig_clf = CalibratedClassifierCV(clf, method=\"sigmoid\")\n",
    "sig_clf.fit(X_train, y_train)\n",
    "    \n",
    "predict_y = sig_clf.predict_proba(X_train)\n",
    "print('For values of best alpha = ', alpha[best_alpha], \"The train log loss is:\",log_loss(y_train, predict_y, labels=clf.classes_, eps=1e-15))\n",
    "predict_y = sig_clf.predict_proba(X_test)\n",
    "print('For values of best alpha = ', alpha[best_alpha], \"The test log loss is:\",log_loss(y_test, predict_y, labels=clf.classes_, eps=1e-15))\n",
    "predicted_y =np.argmax(predict_y,axis=1)\n",
    "print(\"Total number of data points :\", len(predicted_y))\n",
    "plot_confusion_matrix(y_test, predicted_y)"
   ]
  },
  {
   "cell_type": "markdown",
   "metadata": {},
   "source": [
    "## XGBoost"
   ]
  },
  {
   "cell_type": "code",
   "execution_count": 34,
   "metadata": {},
   "outputs": [
    {
     "name": "stdout",
     "output_type": "stream",
     "text": [
      "[0]\ttrain-logloss:0.68472\tvalid-logloss:0.68466\n",
      "Multiple eval metrics have been passed: 'valid-logloss' will be used for early stopping.\n",
      "\n",
      "Will train until valid-logloss hasn't improved in 20 rounds.\n",
      "[10]\ttrain-logloss:0.61447\tvalid-logloss:0.61456\n",
      "[20]\ttrain-logloss:0.56371\tvalid-logloss:0.56408\n",
      "[30]\ttrain-logloss:0.52561\tvalid-logloss:0.52625\n",
      "[40]\ttrain-logloss:0.49639\tvalid-logloss:0.49714\n",
      "[50]\ttrain-logloss:0.47350\tvalid-logloss:0.47440\n",
      "[60]\ttrain-logloss:0.45537\tvalid-logloss:0.45643\n",
      "[70]\ttrain-logloss:0.44063\tvalid-logloss:0.44182\n",
      "[80]\ttrain-logloss:0.42885\tvalid-logloss:0.43014\n",
      "[90]\ttrain-logloss:0.41908\tvalid-logloss:0.42049\n",
      "[100]\ttrain-logloss:0.41103\tvalid-logloss:0.41260\n",
      "[110]\ttrain-logloss:0.40436\tvalid-logloss:0.40603\n",
      "[120]\ttrain-logloss:0.39878\tvalid-logloss:0.40054\n",
      "[130]\ttrain-logloss:0.39384\tvalid-logloss:0.39575\n",
      "[140]\ttrain-logloss:0.38981\tvalid-logloss:0.39184\n",
      "[150]\ttrain-logloss:0.38630\tvalid-logloss:0.38855\n",
      "[160]\ttrain-logloss:0.38319\tvalid-logloss:0.38567\n",
      "[170]\ttrain-logloss:0.38050\tvalid-logloss:0.38314\n",
      "[180]\ttrain-logloss:0.37811\tvalid-logloss:0.38098\n",
      "[190]\ttrain-logloss:0.37594\tvalid-logloss:0.37903\n",
      "[200]\ttrain-logloss:0.37400\tvalid-logloss:0.37737\n",
      "[210]\ttrain-logloss:0.37223\tvalid-logloss:0.37580\n",
      "[220]\ttrain-logloss:0.37057\tvalid-logloss:0.37435\n",
      "[230]\ttrain-logloss:0.36901\tvalid-logloss:0.37306\n",
      "[240]\ttrain-logloss:0.36762\tvalid-logloss:0.37184\n",
      "[250]\ttrain-logloss:0.36641\tvalid-logloss:0.37090\n",
      "[260]\ttrain-logloss:0.36494\tvalid-logloss:0.36968\n",
      "[270]\ttrain-logloss:0.36343\tvalid-logloss:0.36848\n",
      "[280]\ttrain-logloss:0.36197\tvalid-logloss:0.36727\n",
      "[290]\ttrain-logloss:0.36088\tvalid-logloss:0.36644\n",
      "[300]\ttrain-logloss:0.35973\tvalid-logloss:0.36557\n",
      "[310]\ttrain-logloss:0.35870\tvalid-logloss:0.36479\n",
      "[320]\ttrain-logloss:0.35764\tvalid-logloss:0.36401\n",
      "[330]\ttrain-logloss:0.35654\tvalid-logloss:0.36315\n",
      "[340]\ttrain-logloss:0.35553\tvalid-logloss:0.36243\n",
      "[350]\ttrain-logloss:0.35454\tvalid-logloss:0.36174\n",
      "[360]\ttrain-logloss:0.35357\tvalid-logloss:0.36107\n",
      "[370]\ttrain-logloss:0.35255\tvalid-logloss:0.36040\n",
      "[380]\ttrain-logloss:0.35172\tvalid-logloss:0.35990\n",
      "[390]\ttrain-logloss:0.35087\tvalid-logloss:0.35936\n",
      "[399]\ttrain-logloss:0.35007\tvalid-logloss:0.35884\n",
      "The test log loss is: 0.3588445088763859\n"
     ]
    }
   ],
   "source": [
    "import xgboost as xgb\n",
    "params = {}\n",
    "params['objective'] = 'binary:logistic'\n",
    "params['eval_metric'] = 'logloss'\n",
    "params['eta'] = 0.02\n",
    "params['max_depth'] = 4\n",
    "\n",
    "d_train = xgb.DMatrix(X_train, label=y_train)\n",
    "d_test = xgb.DMatrix(X_test, label=y_test)\n",
    "\n",
    "watchlist = [(d_train, 'train'), (d_test, 'valid')]\n",
    "\n",
    "bst = xgb.train(params, d_train, 400, watchlist, early_stopping_rounds=20, verbose_eval=10)\n",
    "\n",
    "xgdmat = xgb.DMatrix(X_train,y_train)\n",
    "predict_y = bst.predict(d_test)\n",
    "print(\"The test log loss is:\",log_loss(y_test, predict_y, labels=clf.classes_, eps=1e-15))"
   ]
  },
  {
   "cell_type": "code",
   "execution_count": null,
   "metadata": {},
   "outputs": [],
   "source": []
  },
  {
   "cell_type": "code",
   "execution_count": null,
   "metadata": {},
   "outputs": [],
   "source": [
    "  "
   ]
  },
  {
   "cell_type": "code",
   "execution_count": null,
   "metadata": {},
   "outputs": [],
   "source": []
  }
 ],
 "metadata": {
  "kernelspec": {
   "display_name": "Python 3",
   "language": "python",
   "name": "python3"
  },
  "language_info": {
   "codemirror_mode": {
    "name": "ipython",
    "version": 3
   },
   "file_extension": ".py",
   "mimetype": "text/x-python",
   "name": "python",
   "nbconvert_exporter": "python",
   "pygments_lexer": "ipython3",
   "version": "3.7.6"
  }
 },
 "nbformat": 4,
 "nbformat_minor": 4
}
